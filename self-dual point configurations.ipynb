{
 "cells": [
  {
   "cell_type": "markdown",
   "metadata": {},
   "source": [
    "# Jupyter notebook to Self-dual matroids from canonical curves"
   ]
  },
  {
   "cell_type": "markdown",
   "metadata": {},
   "source": [
    "\n",
    "This Jupyter notebook illustrates the use of some of the functions for investigating self-dual point configurations and self-dual matroids using Oscar.\n",
    "\n",
    "Additional comments and explanations will be added soon.\n"
   ]
  },
  {
   "cell_type": "code",
   "execution_count": 27,
   "metadata": {},
   "outputs": [],
   "source": [
    "using Oscar;"
   ]
  },
  {
   "cell_type": "markdown",
   "metadata": {},
   "source": [
    "# Self-dual point configurations"
   ]
  },
  {
   "cell_type": "code",
   "execution_count": 2,
   "metadata": {},
   "outputs": [],
   "source": [
    "include(\"selfdual_functions.jl\");"
   ]
  },
  {
   "cell_type": "code",
   "execution_count": 3,
   "metadata": {},
   "outputs": [
    {
     "data": {
      "text/plain": [
       "[1   0   0   0   1    1   1   -1//14]\n",
       "[0   1   0   0   1    2   3     1//2]\n",
       "[0   0   1   0   1   -2   4    -1//2]\n",
       "[0   0   0   1   1    3   1   -3//10]"
      ]
     },
     "execution_count": 3,
     "metadata": {},
     "output_type": "execute_result"
    }
   ],
   "source": [
    "M = matrix(QQ, [1 0 0 0 1 1 1 -1//14;0 1 0 0 1 2 3 1//2;0 0 1 0 1 -2 4  -1//2;0 0 0 1 1 3 1  -3//10])"
   ]
  },
  {
   "cell_type": "code",
   "execution_count": 4,
   "metadata": {},
   "outputs": [
    {
     "data": {
      "text/plain": [
       "(1, [18//245; -3//5; -9//10; -6//25; -3//20; 1//35; 3//70; 1])"
      ]
     },
     "execution_count": 4,
     "metadata": {},
     "output_type": "execute_result"
    }
   ],
   "source": [
    "L =selfduality_condition(M)"
   ]
  },
  {
   "cell_type": "code",
   "execution_count": 5,
   "metadata": {
    "scrolled": true
   },
   "outputs": [
    {
     "data": {
      "text/plain": [
       "[0   0   0   0]\n",
       "[0   0   0   0]\n",
       "[0   0   0   0]\n",
       "[0   0   0   0]"
      ]
     },
     "execution_count": 5,
     "metadata": {},
     "output_type": "execute_result"
    }
   ],
   "source": [
    "D = diagonal_matrix(Vector{fmpq}([L[2][i,1] for i in 1:8]));\n",
    "M*D*transpose(M)"
   ]
  },
  {
   "cell_type": "code",
   "execution_count": 6,
   "metadata": {},
   "outputs": [
    {
     "data": {
      "text/plain": [
       "true"
      ]
     },
     "execution_count": 6,
     "metadata": {},
     "output_type": "execute_result"
    }
   ],
   "source": [
    "P = make_Pluecker(M);\n",
    "L = torusaction([D[i,i] for i in 1:8],4);\n",
    "Pdual = hodge_star(P,8);\n",
    "is_proj_equal(Pdual,[P[i]*L[i] for i in 1:70])"
   ]
  },
  {
   "cell_type": "markdown",
   "metadata": {},
   "source": [
    "# The Cayley Octad Map"
   ]
  },
  {
   "cell_type": "code",
   "execution_count": 7,
   "metadata": {},
   "outputs": [],
   "source": [
    "include(\"CayleyOctadMap.jl\");"
   ]
  },
  {
   "cell_type": "code",
   "execution_count": 8,
   "metadata": {},
   "outputs": [
    {
     "data": {
      "text/plain": [
       "[1   0   0   0   1    1    1]\n",
       "[0   1   0   0   1    2    5]\n",
       "[0   0   1   0   1    7   13]\n",
       "[0   0   0   1   1   -1    2]"
      ]
     },
     "execution_count": 8,
     "metadata": {},
     "output_type": "execute_result"
    }
   ],
   "source": [
    "M = matrix(QQ,[1 0 0 0 1 1 1; 0 1 0 0 1 2 5; 0 0 1 0 1 7 13; 0 0 0 1 1 -1 2])"
   ]
  },
  {
   "cell_type": "code",
   "execution_count": 9,
   "metadata": {},
   "outputs": [
    {
     "data": {
      "text/plain": [
       "[1   0   0   0   1    1    1   -1//59]\n",
       "[0   1   0   0   1    2    5   -5//43]\n",
       "[0   0   1   0   1    7   13    -1//3]\n",
       "[0   0   0   1   1   -1    2   -1//17]"
      ]
     },
     "execution_count": 9,
     "metadata": {},
     "output_type": "execute_result"
    }
   ],
   "source": [
    "N = cayley_eighth_point(M)"
   ]
  },
  {
   "cell_type": "code",
   "execution_count": 10,
   "metadata": {},
   "outputs": [
    {
     "data": {
      "text/plain": [
       "true"
      ]
     },
     "execution_count": 10,
     "metadata": {},
     "output_type": "execute_result"
    }
   ],
   "source": [
    "P = make_Pluecker(N);\n",
    "in_openpart(P)"
   ]
  },
  {
   "cell_type": "markdown",
   "metadata": {},
   "source": [
    "# Self-dual matroids"
   ]
  },
  {
   "cell_type": "code",
   "execution_count": 11,
   "metadata": {},
   "outputs": [
    {
     "data": {
      "text/plain": [
       "is_stable (generic function with 1 method)"
      ]
     },
     "execution_count": 11,
     "metadata": {},
     "output_type": "execute_result"
    }
   ],
   "source": [
    "include(\"get_selfdual_matroids.jl\")"
   ]
  },
  {
   "cell_type": "code",
   "execution_count": 12,
   "metadata": {},
   "outputs": [
    {
     "name": "stdout",
     "output_type": "stream",
     "text": [
      "true 0\n"
     ]
    }
   ],
   "source": [
    "Mt = matroid_from_matrix_columns(M);\n",
    "println(is_self_dual(Mt),\" \",length(nonbases(Mt)))"
   ]
  },
  {
   "cell_type": "code",
   "execution_count": 13,
   "metadata": {
    "scrolled": true
   },
   "outputs": [
    {
     "data": {
      "text/plain": [
       "2-element Vector{Matroid}:\n",
       " Matroid of rank 3 on 6 elements\n",
       " Matroid of rank 3 on 6 elements"
      ]
     },
     "execution_count": 13,
     "metadata": {},
     "output_type": "execute_result"
    }
   ],
   "source": [
    "Mat3 = get_selfdual_matroids(3)"
   ]
  },
  {
   "cell_type": "code",
   "execution_count": 14,
   "metadata": {},
   "outputs": [
    {
     "name": "stdout",
     "output_type": "stream",
     "text": [
      "true\n",
      "true\n"
     ]
    }
   ],
   "source": [
    "for M in Mat3\n",
    "    println(is_stable(M))\n",
    "end"
   ]
  },
  {
   "cell_type": "code",
   "execution_count": 15,
   "metadata": {},
   "outputs": [
    {
     "data": {
      "text/plain": [
       "13-element Vector{Matroid}:\n",
       " Matroid of rank 4 on 8 elements\n",
       " Matroid of rank 4 on 8 elements\n",
       " Matroid of rank 4 on 8 elements\n",
       " Matroid of rank 4 on 8 elements\n",
       " Matroid of rank 4 on 8 elements\n",
       " Matroid of rank 4 on 8 elements\n",
       " Matroid of rank 4 on 8 elements\n",
       " Matroid of rank 4 on 8 elements\n",
       " Matroid of rank 4 on 8 elements\n",
       " Matroid of rank 4 on 8 elements\n",
       " Matroid of rank 4 on 8 elements\n",
       " Matroid of rank 4 on 8 elements\n",
       " Matroid of rank 4 on 8 elements"
      ]
     },
     "execution_count": 15,
     "metadata": {},
     "output_type": "execute_result"
    }
   ],
   "source": [
    "Mat4 = get_selfdual_matroids(4)"
   ]
  },
  {
   "cell_type": "code",
   "execution_count": 16,
   "metadata": {},
   "outputs": [
    {
     "data": {
      "text/plain": [
       "[1   0   0   0   1    1    1   1]\n",
       "[0   1   0   0   1    3   -2   1]\n",
       "[0   0   1   0   1   -1    2   3]\n",
       "[0   0   0   1   1    5   -5   1]"
      ]
     },
     "execution_count": 16,
     "metadata": {},
     "output_type": "execute_result"
    }
   ],
   "source": [
    "Pts = matrix(QQ, [1 0 0 0 1 1 1 1; 0 1 0 0 1 3 -2 1; 0 0 1 0 1 -1 2 3; 0 0 0 1 1 5 -5 1])"
   ]
  },
  {
   "cell_type": "code",
   "execution_count": 17,
   "metadata": {},
   "outputs": [
    {
     "data": {
      "text/plain": [
       "true"
      ]
     },
     "execution_count": 17,
     "metadata": {},
     "output_type": "execute_result"
    }
   ],
   "source": [
    "M = matroid_from_matrix_columns(Pts);\n",
    "is_self_dual(M)&& is_stable(M)"
   ]
  },
  {
   "cell_type": "markdown",
   "metadata": {},
   "source": [
    "# Self-dual valuated matroids"
   ]
  },
  {
   "cell_type": "code",
   "execution_count": 18,
   "metadata": {},
   "outputs": [],
   "source": [
    "include(\"for_tropicalization.jl\");"
   ]
  },
  {
   "cell_type": "code",
   "execution_count": 19,
   "metadata": {},
   "outputs": [],
   "source": [
    "K, t = RationalFunctionField(QQ,\"t\");\n",
    "val = TropicalSemiringMap(K,t);"
   ]
  },
  {
   "cell_type": "code",
   "execution_count": 20,
   "metadata": {},
   "outputs": [],
   "source": [
    "P1 = [−t^2+t,t^2+t,−2*t^2+4*t,2*t^2+4*t,t^2+t,2*K(1),t^2+3*t+2,−2*t^2+2,t^2+3*t+2,2*t^2+4*t,−t^2+t,t^2−3*t+2,−2*t^2+2,t^2−3*t+2,2*K(1),−2*t^2+4*t,−t^2+t,t^2+t,t^2+t,−t^2+t];\n",
    "P2 = [−t+1,t+1,−2*t+4,2*t+4,t^2+t,2*K(1),t^2+3*t+2,−2*t^2+2,t^2+3*t+2,2*t^2+4*t,−t^2+t,t^2−3*t+2,−2*t^2+2,t^2−3*t+2,2*K(1),−2*t^2+4*t,−t^3+t^2,t^3+t^2,t^3+t^2,−t^3+t^2];"
   ]
  },
  {
   "cell_type": "code",
   "execution_count": 21,
   "metadata": {},
   "outputs": [],
   "source": [
    "Q1 = tropicalised(P1);"
   ]
  },
  {
   "cell_type": "code",
   "execution_count": 22,
   "metadata": {},
   "outputs": [],
   "source": [
    "Q2 = tropicalised(P2);"
   ]
  },
  {
   "cell_type": "code",
   "execution_count": 23,
   "metadata": {},
   "outputs": [],
   "source": [
    "q1 = [numerator(q.data) for q in Q1];\n",
    "q2 = [numerator(q.data) for q in Q2];"
   ]
  },
  {
   "cell_type": "code",
   "execution_count": 24,
   "metadata": {
    "scrolled": true
   },
   "outputs": [],
   "source": [
    "Hyppts = Polymake.polytope.hypersimplex(3,6).VERTICES;\n",
    "#Convertiere diese matrix in OSCAR format!"
   ]
  },
  {
   "cell_type": "code",
   "execution_count": 25,
   "metadata": {
    "scrolled": true
   },
   "outputs": [
    {
     "data": {
      "text/plain": [
       "A subdivision of points in ambient dimension 7"
      ]
     },
     "execution_count": 25,
     "metadata": {},
     "output_type": "execute_result"
    }
   ],
   "source": [
    "S1 = SubdivisionOfPoints(Hyppts,[numerator(q.data) for q in Q1])\n",
    "S2 = SubdivisionOfPoints(Hyppts,[numerator(q.data) for q in Q2])"
   ]
  },
  {
   "cell_type": "code",
   "execution_count": 26,
   "metadata": {},
   "outputs": [
    {
     "data": {
      "text/plain": [
       "6-element SubObjectIterator{Vector{Int64}}:\n",
       " [1, 2, 3, 4, 6, 7, 8, 9, 12, 13, 14, 15]\n",
       " [1, 2, 5, 6, 7, 8, 9, 11, 12, 13, 14, 15]\n",
       " [3, 4, 6, 7, 8, 9, 10, 12, 13, 14, 15, 16]\n",
       " [6, 7, 8, 9, 10, 12, 13, 14, 15, 16, 19, 20]\n",
       " [5, 6, 7, 8, 9, 11, 12, 13, 14, 15, 17, 18]\n",
       " [6, 7, 8, 9, 12, 13, 14, 15, 17, 18, 19, 20]"
      ]
     },
     "execution_count": 26,
     "metadata": {},
     "output_type": "execute_result"
    }
   ],
   "source": [
    "maximal_cells(S1)\n"
   ]
  }
 ],
 "metadata": {
  "kernelspec": {
   "display_name": "Julia 1.8.5",
   "language": "julia",
   "name": "julia-1.8"
  },
  "language_info": {
   "file_extension": ".jl",
   "mimetype": "application/julia",
   "name": "julia",
   "version": "1.8.5"
  }
 },
 "nbformat": 4,
 "nbformat_minor": 2
}
